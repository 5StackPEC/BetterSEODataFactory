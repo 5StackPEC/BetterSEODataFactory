{
 "cells": [
  {
   "cell_type": "code",
   "execution_count": 1,
   "metadata": {},
   "outputs": [],
   "source": [
    "import csv"
   ]
  },
  {
   "cell_type": "code",
   "execution_count": 6,
   "metadata": {},
   "outputs": [],
   "source": [
    "output_path = \"./dataset/annotations/failed_urls.csv\"\n",
    "failed_urls_set = set([\"test_url.com\"])\n",
    "failed_urls_list = list(failed_urls_set)\n",
    "with open(output_path, mode=\"w\", newline=\"\") as file:\n",
    "    writer = csv.writer(file)\n",
    "    writer.writerows(failed_urls_list)"
   ]
  },
  {
   "cell_type": "code",
   "execution_count": 25,
   "metadata": {},
   "outputs": [
    {
     "data": {
      "text/plain": [
       "{'12test_url.com',\n",
       " '333test_url.com',\n",
       " '33test_2.com',\n",
       " '44test_2.com',\n",
       " '4test_url.com',\n",
       " '55test_url.com',\n",
       " '66test_2.com',\n",
       " 't5est_2.com',\n",
       " 'te6st_url.com',\n",
       " 'tes7t_2.com',\n",
       " 'test1_2.com',\n",
       " 'test8_url.com',\n",
       " 'test_2.c11om',\n",
       " 'test_2.com',\n",
       " 'test_23.com',\n",
       " 'test_2url.com',\n",
       " 'test_92.com',\n",
       " 'test_u00rl.com',\n",
       " 'test_url.c22om',\n",
       " 'test_url.com'}"
      ]
     },
     "execution_count": 25,
     "metadata": {},
     "output_type": "execute_result"
    }
   ],
   "source": [
    "failed_urls_set = set(\n",
    "    [\n",
    "        \"test_url.com\",\n",
    "        \"test_2.com\",\n",
    "        \"12test_url.com\",\n",
    "        \"66test_2.com\",\n",
    "        \"55test_url.com\",\n",
    "        \"44test_2.com\",\n",
    "        \"333test_url.com\",\n",
    "        \"33test_2.com\",\n",
    "        \"test_url.c22om\",\n",
    "        \"test_2.c11om\",\n",
    "        \"test_u00rl.com\",\n",
    "        \"test_92.com\",\n",
    "        \"test8_url.com\",\n",
    "        \"tes7t_2.com\",\n",
    "        \"te6st_url.com\",\n",
    "        \"t5est_2.com\",\n",
    "        \"4test_url.com\",\n",
    "        \"test_23.com\",\n",
    "        \"test_2url.com\",\n",
    "        \"test1_2.com\",\n",
    "    ]\n",
    ")\n",
    "failed_urls_set"
   ]
  },
  {
   "cell_type": "code",
   "execution_count": 26,
   "metadata": {},
   "outputs": [
    {
     "data": {
      "text/plain": [
       "['55test_url.com',\n",
       " 'test_2.com',\n",
       " '12test_url.com',\n",
       " 'test_u00rl.com',\n",
       " '333test_url.com',\n",
       " 'test_2url.com',\n",
       " 'test_92.com',\n",
       " '66test_2.com',\n",
       " 'tes7t_2.com',\n",
       " 'test1_2.com',\n",
       " 'test8_url.com',\n",
       " 'test_23.com',\n",
       " '44test_2.com',\n",
       " '33test_2.com',\n",
       " '4test_url.com',\n",
       " 'test_url.com',\n",
       " 'test_url.c22om',\n",
       " 'te6st_url.com',\n",
       " 't5est_2.com',\n",
       " 'test_2.c11om']"
      ]
     },
     "execution_count": 26,
     "metadata": {},
     "output_type": "execute_result"
    }
   ],
   "source": [
    "failed_urls_list = list(failed_urls_set)\n",
    "failed_urls_list"
   ]
  },
  {
   "cell_type": "code",
   "execution_count": 44,
   "metadata": {},
   "outputs": [],
   "source": [
    "with open(output_path, mode=\"w\", newline=\"\") as file:\n",
    "    writer = csv.writer(file)\n",
    "    for url in failed_urls_list:\n",
    "        writer.writerow([url])"
   ]
  },
  {
   "cell_type": "code",
   "execution_count": null,
   "metadata": {},
   "outputs": [],
   "source": []
  }
 ],
 "metadata": {
  "kernelspec": {
   "display_name": ".venv",
   "language": "python",
   "name": "python3"
  },
  "language_info": {
   "codemirror_mode": {
    "name": "ipython",
    "version": 3
   },
   "file_extension": ".py",
   "mimetype": "text/x-python",
   "name": "python",
   "nbconvert_exporter": "python",
   "pygments_lexer": "ipython3",
   "version": "3.11.3"
  }
 },
 "nbformat": 4,
 "nbformat_minor": 2
}
