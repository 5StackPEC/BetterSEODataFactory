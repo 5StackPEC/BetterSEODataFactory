{
 "cells": [
  {
   "cell_type": "code",
   "execution_count": 1,
   "metadata": {},
   "outputs": [],
   "source": [
    "import csv\n",
    "import os\n",
    "import subprocess\n",
    "import json\n",
    "from selenium import webdriver\n",
    "from selenium.webdriver.chrome.options import Options\n",
    "from concurrent.futures import ThreadPoolExecutor"
   ]
  },
  {
   "cell_type": "code",
   "execution_count": 8,
   "metadata": {},
   "outputs": [],
   "source": [
    "def run_lighthouse(url):\n",
    "    cmd = f\"lighthouse {url} --output=json --quiet\"\n",
    "    result = subprocess.run(cmd, shell=True, stdout=subprocess.PIPE, stderr=subprocess.PIPE)\n",
    "    \n",
    "    if result.returncode != 0:\n",
    "        print(f\"Error running Lighthouse command for {url}: {result.stderr.decode()}\")\n",
    "        return None\n",
    "    else:\n",
    "        try:\n",
    "            return json.loads(result.stdout)\n",
    "        except json.JSONDecodeError as e:\n",
    "            print(f\"Error decoding JSON for {url}: {e}\")\n",
    "            return None"
   ]
  },
  {
   "cell_type": "code",
   "execution_count": 9,
   "metadata": {},
   "outputs": [],
   "source": [
    "def generate_report(url):\n",
    "    chrome_options = Options()\n",
    "    chrome_options.add_argument(\"--headless\")  # Run Chrome in headless mode\n",
    "    driver = webdriver.Chrome(options=chrome_options)\n",
    "    \n",
    "    driver.get(url)\n",
    "    report = run_lighthouse(url)\n",
    "    \n",
    "    driver.quit()\n",
    "    \n",
    "    return report"
   ]
  },
  {
   "cell_type": "code",
   "execution_count": 10,
   "metadata": {},
   "outputs": [],
   "source": [
    "def save_report(report, filename, url, report_id):\n",
    "    if report is not None:\n",
    "        important_scores = {\n",
    "            'id': report_id,\n",
    "            'url': url,\n",
    "            'performance': report['categories']['performance']['score'] * 100,\n",
    "            'accessibility': report['categories']['accessibility']['score'] * 100,\n",
    "            'best-practices': report['categories']['best-practices']['score'] * 100,\n",
    "            'seo': report['categories']['seo']['score'] * 100\n",
    "        }\n",
    "        \n",
    "        # Read the existing content if the file exists\n",
    "        if os.path.exists(filename):\n",
    "            with open(filename, 'r') as f:\n",
    "                try:\n",
    "                    data = json.load(f)\n",
    "                except json.JSONDecodeError:\n",
    "                    data = {'lighthouseReports': []}\n",
    "        else:\n",
    "            data = {'lighthouseReports': []}\n",
    "        \n",
    "        # Append the new report to the list\n",
    "        data['lighthouseReports'].append(important_scores)\n",
    "        \n",
    "        # Write the updated data back to the file\n",
    "        with open(filename, 'w') as f:\n",
    "            json.dump(data, f, indent=2)\n",
    "            print(f\"Report saved for {filename}\")\n",
    "        \n",
    "        # Print scores to the console\n",
    "        print(\"Lighthouse Performance Metrics:\")\n",
    "        for category, score in important_scores.items():\n",
    "            if category not in ['id', 'url']:\n",
    "                print(f\"{category.capitalize()} score: {score}\")\n",
    "    else:\n",
    "        print(f\"No report generated for {filename}\")"
   ]
  },
  {
   "cell_type": "code",
   "execution_count": 11,
   "metadata": {},
   "outputs": [],
   "source": [
    "def thread_report(csvreader):\n",
    "    for report_id, row in enumerate(csvreader):\n",
    "            url = 'https://' + row[0] + '/'\n",
    "            print(url)\n",
    "            report = generate_report(url)\n",
    "            # filename = f\"lighthouse_report_{url.replace('https://', '').replace('/', '_')}.json\"\n",
    "            save_report(report, \"lighthouse_report.json\", url, report_id)\n",
    "\n"
   ]
  },
  {
   "cell_type": "code",
   "execution_count": 13,
   "metadata": {},
   "outputs": [
    {
     "name": "stdout",
     "output_type": "stream",
     "text": [
      "https://http://1k62.com/https://http://altis.com.pl/\n",
      "\n",
      "https://http://bardonsoliver.com/\n",
      "https://http://car-tool.ru/\n",
      "https://http://deltacorp.com.ua/\n",
      "https://http://eko-klimat.pl/\n",
      "https://http://etn.pl/\n",
      "https://http://framingtech.com/\n",
      "https://http://graffpinkert.com/\n",
      "https://http://hipressuresystems.com/\n"
     ]
    },
    {
     "ename": "WebDriverException",
     "evalue": "Message: unknown error: net::ERR_NAME_NOT_RESOLVED\n  (Session info: chrome-headless-shell=124.0.6367.208)\nStacktrace:\n\tGetHandleVerifier [0x00007FF7C3D61522+60802]\n\t(No symbol) [0x00007FF7C3CDAC22]\n\t(No symbol) [0x00007FF7C3B97CE4]\n\t(No symbol) [0x00007FF7C3B905B3]\n\t(No symbol) [0x00007FF7C3B813E4]\n\t(No symbol) [0x00007FF7C3B82C14]\n\t(No symbol) [0x00007FF7C3B81711]\n\t(No symbol) [0x00007FF7C3B81049]\n\t(No symbol) [0x00007FF7C3B80D42]\n\t(No symbol) [0x00007FF7C3B7EBE4]\n\t(No symbol) [0x00007FF7C3B7F22C]\n\t(No symbol) [0x00007FF7C3B9A9F9]\n\t(No symbol) [0x00007FF7C3C2AB7E]\n\t(No symbol) [0x00007FF7C3C0AB7A]\n\t(No symbol) [0x00007FF7C3C2A224]\n\t(No symbol) [0x00007FF7C3C0A923]\n\t(No symbol) [0x00007FF7C3BD8FEC]\n\t(No symbol) [0x00007FF7C3BD9C21]\n\tGetHandleVerifier [0x00007FF7C40641BD+3217949]\n\tGetHandleVerifier [0x00007FF7C40A6157+3488183]\n\tGetHandleVerifier [0x00007FF7C409F0DF+3459391]\n\tGetHandleVerifier [0x00007FF7C3E1B8E6+823622]\n\t(No symbol) [0x00007FF7C3CE5FBF]\n\t(No symbol) [0x00007FF7C3CE0EE4]\n\t(No symbol) [0x00007FF7C3CE1072]\n\t(No symbol) [0x00007FF7C3CD18C4]\n\tBaseThreadInitThunk [0x00007FFA3D6E7344+20]\n\tRtlUserThreadStart [0x00007FFA3D8226B1+33]\n",
     "output_type": "error",
     "traceback": [
      "\u001b[1;31m---------------------------------------------------------------------------\u001b[0m",
      "\u001b[1;31mWebDriverException\u001b[0m                        Traceback (most recent call last)",
      "Cell \u001b[1;32mIn[13], line 33\u001b[0m\n\u001b[0;32m     30\u001b[0m     start_id \u001b[38;5;241m+\u001b[39m\u001b[38;5;241m=\u001b[39m \u001b[38;5;28mlen\u001b[39m(chunk)\n\u001b[0;32m     32\u001b[0m \u001b[38;5;28;01mfor\u001b[39;00m future \u001b[38;5;129;01min\u001b[39;00m futures:\n\u001b[1;32m---> 33\u001b[0m     \u001b[43mfuture\u001b[49m\u001b[38;5;241;43m.\u001b[39;49m\u001b[43mresult\u001b[49m\u001b[43m(\u001b[49m\u001b[43m)\u001b[49m  \u001b[38;5;66;03m# Wait for all futures to complete\u001b[39;00m\n",
      "File \u001b[1;32md:\\Python310\\lib\\concurrent\\futures\\_base.py:458\u001b[0m, in \u001b[0;36mFuture.result\u001b[1;34m(self, timeout)\u001b[0m\n\u001b[0;32m    456\u001b[0m     \u001b[38;5;28;01mraise\u001b[39;00m CancelledError()\n\u001b[0;32m    457\u001b[0m \u001b[38;5;28;01melif\u001b[39;00m \u001b[38;5;28mself\u001b[39m\u001b[38;5;241m.\u001b[39m_state \u001b[38;5;241m==\u001b[39m FINISHED:\n\u001b[1;32m--> 458\u001b[0m     \u001b[38;5;28;01mreturn\u001b[39;00m \u001b[38;5;28;43mself\u001b[39;49m\u001b[38;5;241;43m.\u001b[39;49m\u001b[43m__get_result\u001b[49m\u001b[43m(\u001b[49m\u001b[43m)\u001b[49m\n\u001b[0;32m    459\u001b[0m \u001b[38;5;28;01melse\u001b[39;00m:\n\u001b[0;32m    460\u001b[0m     \u001b[38;5;28;01mraise\u001b[39;00m \u001b[38;5;167;01mTimeoutError\u001b[39;00m()\n",
      "File \u001b[1;32md:\\Python310\\lib\\concurrent\\futures\\_base.py:403\u001b[0m, in \u001b[0;36mFuture.__get_result\u001b[1;34m(self)\u001b[0m\n\u001b[0;32m    401\u001b[0m \u001b[38;5;28;01mif\u001b[39;00m \u001b[38;5;28mself\u001b[39m\u001b[38;5;241m.\u001b[39m_exception:\n\u001b[0;32m    402\u001b[0m     \u001b[38;5;28;01mtry\u001b[39;00m:\n\u001b[1;32m--> 403\u001b[0m         \u001b[38;5;28;01mraise\u001b[39;00m \u001b[38;5;28mself\u001b[39m\u001b[38;5;241m.\u001b[39m_exception\n\u001b[0;32m    404\u001b[0m     \u001b[38;5;28;01mfinally\u001b[39;00m:\n\u001b[0;32m    405\u001b[0m         \u001b[38;5;66;03m# Break a reference cycle with the exception in self._exception\u001b[39;00m\n\u001b[0;32m    406\u001b[0m         \u001b[38;5;28mself\u001b[39m \u001b[38;5;241m=\u001b[39m \u001b[38;5;28;01mNone\u001b[39;00m\n",
      "File \u001b[1;32md:\\Python310\\lib\\concurrent\\futures\\thread.py:58\u001b[0m, in \u001b[0;36m_WorkItem.run\u001b[1;34m(self)\u001b[0m\n\u001b[0;32m     55\u001b[0m     \u001b[38;5;28;01mreturn\u001b[39;00m\n\u001b[0;32m     57\u001b[0m \u001b[38;5;28;01mtry\u001b[39;00m:\n\u001b[1;32m---> 58\u001b[0m     result \u001b[38;5;241m=\u001b[39m \u001b[38;5;28mself\u001b[39m\u001b[38;5;241m.\u001b[39mfn(\u001b[38;5;241m*\u001b[39m\u001b[38;5;28mself\u001b[39m\u001b[38;5;241m.\u001b[39margs, \u001b[38;5;241m*\u001b[39m\u001b[38;5;241m*\u001b[39m\u001b[38;5;28mself\u001b[39m\u001b[38;5;241m.\u001b[39mkwargs)\n\u001b[0;32m     59\u001b[0m \u001b[38;5;28;01mexcept\u001b[39;00m \u001b[38;5;167;01mBaseException\u001b[39;00m \u001b[38;5;28;01mas\u001b[39;00m exc:\n\u001b[0;32m     60\u001b[0m     \u001b[38;5;28mself\u001b[39m\u001b[38;5;241m.\u001b[39mfuture\u001b[38;5;241m.\u001b[39mset_exception(exc)\n",
      "Cell \u001b[1;32mIn[13], line 5\u001b[0m, in \u001b[0;36mprocess_chunk\u001b[1;34m(chunk, start_id)\u001b[0m\n\u001b[0;32m      3\u001b[0m url \u001b[38;5;241m=\u001b[39m \u001b[38;5;124m'\u001b[39m\u001b[38;5;124mhttps://\u001b[39m\u001b[38;5;124m'\u001b[39m \u001b[38;5;241m+\u001b[39m row[\u001b[38;5;241m0\u001b[39m] \u001b[38;5;241m+\u001b[39m \u001b[38;5;124m'\u001b[39m\u001b[38;5;124m/\u001b[39m\u001b[38;5;124m'\u001b[39m\n\u001b[0;32m      4\u001b[0m \u001b[38;5;28mprint\u001b[39m(url)\n\u001b[1;32m----> 5\u001b[0m report \u001b[38;5;241m=\u001b[39m \u001b[43mgenerate_report\u001b[49m\u001b[43m(\u001b[49m\u001b[43murl\u001b[49m\u001b[43m)\u001b[49m\n\u001b[0;32m      6\u001b[0m save_report(report, \u001b[38;5;124m\"\u001b[39m\u001b[38;5;124mlighthouse_report.json\u001b[39m\u001b[38;5;124m\"\u001b[39m, url, start_id \u001b[38;5;241m+\u001b[39m report_id)\n",
      "Cell \u001b[1;32mIn[9], line 6\u001b[0m, in \u001b[0;36mgenerate_report\u001b[1;34m(url)\u001b[0m\n\u001b[0;32m      3\u001b[0m chrome_options\u001b[38;5;241m.\u001b[39madd_argument(\u001b[38;5;124m\"\u001b[39m\u001b[38;5;124m--headless\u001b[39m\u001b[38;5;124m\"\u001b[39m)  \u001b[38;5;66;03m# Run Chrome in headless mode\u001b[39;00m\n\u001b[0;32m      4\u001b[0m driver \u001b[38;5;241m=\u001b[39m webdriver\u001b[38;5;241m.\u001b[39mChrome(options\u001b[38;5;241m=\u001b[39mchrome_options)\n\u001b[1;32m----> 6\u001b[0m \u001b[43mdriver\u001b[49m\u001b[38;5;241;43m.\u001b[39;49m\u001b[43mget\u001b[49m\u001b[43m(\u001b[49m\u001b[43murl\u001b[49m\u001b[43m)\u001b[49m\n\u001b[0;32m      7\u001b[0m report \u001b[38;5;241m=\u001b[39m run_lighthouse(url)\n\u001b[0;32m      9\u001b[0m driver\u001b[38;5;241m.\u001b[39mquit()\n",
      "File \u001b[1;32md:\\Python310\\lib\\site-packages\\selenium\\webdriver\\remote\\webdriver.py:356\u001b[0m, in \u001b[0;36mWebDriver.get\u001b[1;34m(self, url)\u001b[0m\n\u001b[0;32m    354\u001b[0m \u001b[38;5;28;01mdef\u001b[39;00m \u001b[38;5;21mget\u001b[39m(\u001b[38;5;28mself\u001b[39m, url: \u001b[38;5;28mstr\u001b[39m) \u001b[38;5;241m-\u001b[39m\u001b[38;5;241m>\u001b[39m \u001b[38;5;28;01mNone\u001b[39;00m:\n\u001b[0;32m    355\u001b[0m \u001b[38;5;250m    \u001b[39m\u001b[38;5;124;03m\"\"\"Loads a web page in the current browser session.\"\"\"\u001b[39;00m\n\u001b[1;32m--> 356\u001b[0m     \u001b[38;5;28;43mself\u001b[39;49m\u001b[38;5;241;43m.\u001b[39;49m\u001b[43mexecute\u001b[49m\u001b[43m(\u001b[49m\u001b[43mCommand\u001b[49m\u001b[38;5;241;43m.\u001b[39;49m\u001b[43mGET\u001b[49m\u001b[43m,\u001b[49m\u001b[43m \u001b[49m\u001b[43m{\u001b[49m\u001b[38;5;124;43m\"\u001b[39;49m\u001b[38;5;124;43murl\u001b[39;49m\u001b[38;5;124;43m\"\u001b[39;49m\u001b[43m:\u001b[49m\u001b[43m \u001b[49m\u001b[43murl\u001b[49m\u001b[43m}\u001b[49m\u001b[43m)\u001b[49m\n",
      "File \u001b[1;32md:\\Python310\\lib\\site-packages\\selenium\\webdriver\\remote\\webdriver.py:347\u001b[0m, in \u001b[0;36mWebDriver.execute\u001b[1;34m(self, driver_command, params)\u001b[0m\n\u001b[0;32m    345\u001b[0m response \u001b[38;5;241m=\u001b[39m \u001b[38;5;28mself\u001b[39m\u001b[38;5;241m.\u001b[39mcommand_executor\u001b[38;5;241m.\u001b[39mexecute(driver_command, params)\n\u001b[0;32m    346\u001b[0m \u001b[38;5;28;01mif\u001b[39;00m response:\n\u001b[1;32m--> 347\u001b[0m     \u001b[38;5;28;43mself\u001b[39;49m\u001b[38;5;241;43m.\u001b[39;49m\u001b[43merror_handler\u001b[49m\u001b[38;5;241;43m.\u001b[39;49m\u001b[43mcheck_response\u001b[49m\u001b[43m(\u001b[49m\u001b[43mresponse\u001b[49m\u001b[43m)\u001b[49m\n\u001b[0;32m    348\u001b[0m     response[\u001b[38;5;124m\"\u001b[39m\u001b[38;5;124mvalue\u001b[39m\u001b[38;5;124m\"\u001b[39m] \u001b[38;5;241m=\u001b[39m \u001b[38;5;28mself\u001b[39m\u001b[38;5;241m.\u001b[39m_unwrap_value(response\u001b[38;5;241m.\u001b[39mget(\u001b[38;5;124m\"\u001b[39m\u001b[38;5;124mvalue\u001b[39m\u001b[38;5;124m\"\u001b[39m, \u001b[38;5;28;01mNone\u001b[39;00m))\n\u001b[0;32m    349\u001b[0m     \u001b[38;5;28;01mreturn\u001b[39;00m response\n",
      "File \u001b[1;32md:\\Python310\\lib\\site-packages\\selenium\\webdriver\\remote\\errorhandler.py:229\u001b[0m, in \u001b[0;36mErrorHandler.check_response\u001b[1;34m(self, response)\u001b[0m\n\u001b[0;32m    227\u001b[0m         alert_text \u001b[38;5;241m=\u001b[39m value[\u001b[38;5;124m\"\u001b[39m\u001b[38;5;124malert\u001b[39m\u001b[38;5;124m\"\u001b[39m]\u001b[38;5;241m.\u001b[39mget(\u001b[38;5;124m\"\u001b[39m\u001b[38;5;124mtext\u001b[39m\u001b[38;5;124m\"\u001b[39m)\n\u001b[0;32m    228\u001b[0m     \u001b[38;5;28;01mraise\u001b[39;00m exception_class(message, screen, stacktrace, alert_text)  \u001b[38;5;66;03m# type: ignore[call-arg]  # mypy is not smart enough here\u001b[39;00m\n\u001b[1;32m--> 229\u001b[0m \u001b[38;5;28;01mraise\u001b[39;00m exception_class(message, screen, stacktrace)\n",
      "\u001b[1;31mWebDriverException\u001b[0m: Message: unknown error: net::ERR_NAME_NOT_RESOLVED\n  (Session info: chrome-headless-shell=124.0.6367.208)\nStacktrace:\n\tGetHandleVerifier [0x00007FF7C3D61522+60802]\n\t(No symbol) [0x00007FF7C3CDAC22]\n\t(No symbol) [0x00007FF7C3B97CE4]\n\t(No symbol) [0x00007FF7C3B905B3]\n\t(No symbol) [0x00007FF7C3B813E4]\n\t(No symbol) [0x00007FF7C3B82C14]\n\t(No symbol) [0x00007FF7C3B81711]\n\t(No symbol) [0x00007FF7C3B81049]\n\t(No symbol) [0x00007FF7C3B80D42]\n\t(No symbol) [0x00007FF7C3B7EBE4]\n\t(No symbol) [0x00007FF7C3B7F22C]\n\t(No symbol) [0x00007FF7C3B9A9F9]\n\t(No symbol) [0x00007FF7C3C2AB7E]\n\t(No symbol) [0x00007FF7C3C0AB7A]\n\t(No symbol) [0x00007FF7C3C2A224]\n\t(No symbol) [0x00007FF7C3C0A923]\n\t(No symbol) [0x00007FF7C3BD8FEC]\n\t(No symbol) [0x00007FF7C3BD9C21]\n\tGetHandleVerifier [0x00007FF7C40641BD+3217949]\n\tGetHandleVerifier [0x00007FF7C40A6157+3488183]\n\tGetHandleVerifier [0x00007FF7C409F0DF+3459391]\n\tGetHandleVerifier [0x00007FF7C3E1B8E6+823622]\n\t(No symbol) [0x00007FF7C3CE5FBF]\n\t(No symbol) [0x00007FF7C3CE0EE4]\n\t(No symbol) [0x00007FF7C3CE1072]\n\t(No symbol) [0x00007FF7C3CD18C4]\n\tBaseThreadInitThunk [0x00007FFA3D6E7344+20]\n\tRtlUserThreadStart [0x00007FFA3D8226B1+33]\n"
     ]
    }
   ],
   "source": [
    "def process_chunk(chunk, start_id):\n",
    "    for report_id, row in enumerate(chunk):\n",
    "        url = 'https://' + row[0] + '/'\n",
    "        print(url)\n",
    "        report = generate_report(url)\n",
    "        save_report(report, \"lighthouse_report.json\", url, start_id + report_id)\n",
    "\n",
    "def chunked_csv_reader(file_path, chunk_size):\n",
    "    with open(file_path, newline='') as csvfile:\n",
    "        csvreader = csv.reader(csvfile)\n",
    "        next(csvreader)  # Skip the header\n",
    "        chunk = []\n",
    "        for row in csvreader:\n",
    "            chunk.append(row)\n",
    "            if len(chunk) == chunk_size:\n",
    "                yield chunk\n",
    "                chunk = []\n",
    "        if chunk:  # Yield the last chunk if it's not empty\n",
    "            yield chunk\n",
    "\n",
    "if __name__ == \"__main__\":\n",
    "    chunk_size = 10  # Adjust chunk size as needed\n",
    "    file_path = 'WebScreenshots.csv'\n",
    "\n",
    "    with ThreadPoolExecutor(max_workers=10) as executor:  # Adjust number of workers as needed\n",
    "        futures = []\n",
    "        start_id = 0\n",
    "        for chunk in chunked_csv_reader(file_path, chunk_size):\n",
    "            futures.append(executor.submit(process_chunk, chunk, start_id))\n",
    "            start_id += len(chunk)\n",
    "\n",
    "        for future in futures:\n",
    "            future.result()  # Wait for all futures to complete\n"
   ]
  }
 ],
 "metadata": {
  "kernelspec": {
   "display_name": "base",
   "language": "python",
   "name": "python3"
  },
  "language_info": {
   "codemirror_mode": {
    "name": "ipython",
    "version": 3
   },
   "file_extension": ".py",
   "mimetype": "text/x-python",
   "name": "python",
   "nbconvert_exporter": "python",
   "pygments_lexer": "ipython3",
   "version": "3.11.3"
  }
 },
 "nbformat": 4,
 "nbformat_minor": 2
}
