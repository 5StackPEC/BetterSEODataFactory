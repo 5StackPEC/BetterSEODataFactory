{
 "cells": [
  {
   "cell_type": "code",
   "execution_count": 1,
   "metadata": {},
   "outputs": [],
   "source": [
    "import csv\n",
    "import os\n",
    "import subprocess\n",
    "import json\n",
    "from selenium import webdriver\n",
    "from selenium.webdriver.chrome.options import Options"
   ]
  },
  {
   "cell_type": "code",
   "execution_count": 2,
   "metadata": {},
   "outputs": [],
   "source": [
    "def run_lighthouse(url):\n",
    "    cmd = f\"lighthouse {url} --output=json --quiet\"\n",
    "    result = subprocess.run(cmd, shell=True, stdout=subprocess.PIPE, stderr=subprocess.PIPE)\n",
    "    \n",
    "    if result.returncode != 0:\n",
    "        print(f\"Error running Lighthouse command for {url}: {result.stderr.decode()}\")\n",
    "        return None\n",
    "    else:\n",
    "        try:\n",
    "            return json.loads(result.stdout)\n",
    "        except json.JSONDecodeError as e:\n",
    "            print(f\"Error decoding JSON for {url}: {e}\")\n",
    "            return None"
   ]
  },
  {
   "cell_type": "code",
   "execution_count": 3,
   "metadata": {},
   "outputs": [],
   "source": [
    "def generate_report(url):\n",
    "    chrome_options = Options()\n",
    "    chrome_options.add_argument(\"--headless\")  # Run Chrome in headless mode\n",
    "    driver = webdriver.Chrome(options=chrome_options)\n",
    "    \n",
    "    driver.get(url)\n",
    "    report = run_lighthouse(url)\n",
    "    \n",
    "    driver.quit()\n",
    "    \n",
    "    return report"
   ]
  },
  {
   "cell_type": "code",
   "execution_count": 4,
   "metadata": {},
   "outputs": [],
   "source": [
    "def save_report(report, filename, url, report_id):\n",
    "    if report is not None:\n",
    "        important_scores = {\n",
    "            'id': report_id,\n",
    "            'url': url,\n",
    "            'performance': report['categories']['performance']['score'] * 100,\n",
    "            'accessibility': report['categories']['accessibility']['score'] * 100,\n",
    "            'best-practices': report['categories']['best-practices']['score'] * 100,\n",
    "            'seo': report['categories']['seo']['score'] * 100\n",
    "        }\n",
    "        \n",
    "        # Read the existing content if the file exists\n",
    "        if os.path.exists(filename):\n",
    "            with open(filename, 'r') as f:\n",
    "                try:\n",
    "                    data = json.load(f)\n",
    "                except json.JSONDecodeError:\n",
    "                    data = {'lighthouseReports': []}\n",
    "        else:\n",
    "            data = {'lighthouseReports': []}\n",
    "        \n",
    "        # Append the new report to the list\n",
    "        data['lighthouseReports'].append(important_scores)\n",
    "        \n",
    "        # Write the updated data back to the file\n",
    "        with open(filename, 'w') as f:\n",
    "            json.dump(data, f, indent=2)\n",
    "            print(f\"Report saved for {filename}\")\n",
    "        \n",
    "        # Print scores to the console\n",
    "        print(\"Lighthouse Performance Metrics:\")\n",
    "        for category, score in important_scores.items():\n",
    "            if category not in ['id', 'url']:\n",
    "                print(f\"{category.capitalize()} score: {score}\")\n",
    "    else:\n",
    "        print(f\"No report generated for {filename}\")"
   ]
  },
  {
   "cell_type": "code",
   "execution_count": 5,
   "metadata": {},
   "outputs": [
    {
     "name": "stdout",
     "output_type": "stream",
     "text": [
      "https://pokemon.com/\n",
      "Report saved for lighthouse_report.json\n",
      "Lighthouse Performance Metrics:\n",
      "Performance score: 51.0\n",
      "Accessibility score: 72.0\n",
      "Best-practices score: 56.99999999999999\n",
      "Seo score: 67.0\n",
      "https://viz.com/\n",
      "Report saved for lighthouse_report.json\n",
      "Lighthouse Performance Metrics:\n",
      "Performance score: 46.0\n",
      "Accessibility score: 83.0\n",
      "Best-practices score: 56.99999999999999\n",
      "Seo score: 85.0\n"
     ]
    }
   ],
   "source": [
    "if __name__ == \"__main__\": \n",
    "    with open('adrian_url.csv', newline='') as csvfile:\n",
    "        csvreader = csv.reader(csvfile)\n",
    "        \n",
    "        next(csvreader)\n",
    "        \n",
    "        for report_id, row in enumerate(csvreader):\n",
    "            url = 'https://' + row[0] + '/'\n",
    "            print(url)\n",
    "            report = generate_report(url)\n",
    "            # filename = f\"lighthouse_report_{url.replace('https://', '').replace('/', '_')}.json\"\n",
    "            save_report(report, \"lighthouse_report.json\", url, report_id)\n"
   ]
  }
 ],
 "metadata": {
  "kernelspec": {
   "display_name": "base",
   "language": "python",
   "name": "python3"
  },
  "language_info": {
   "codemirror_mode": {
    "name": "ipython",
    "version": 3
   },
   "file_extension": ".py",
   "mimetype": "text/x-python",
   "name": "python",
   "nbconvert_exporter": "python",
   "pygments_lexer": "ipython3",
   "version": "3.10.0"
  }
 },
 "nbformat": 4,
 "nbformat_minor": 2
}
