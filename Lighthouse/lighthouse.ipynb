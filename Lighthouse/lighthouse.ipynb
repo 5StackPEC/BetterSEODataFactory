{
 "cells": [
  {
   "cell_type": "code",
   "execution_count": 1,
   "metadata": {},
   "outputs": [],
   "source": [
    "from concurrent.futures import ThreadPoolExecutor\n",
    "from typing import List\n",
    "from lighthouse_utils import paralelization\n",
    "\n",
    "# types\n",
    "import concurrent.futures"
   ]
  },
  {
   "cell_type": "code",
   "execution_count": 2,
   "metadata": {},
   "outputs": [
    {
     "name": "stdout",
     "output_type": "stream",
     "text": [
      "https://www.primevideo.com/ \n",
      "\n",
      "Report saved for lighthouse_report.json\n",
      "Lighthouse Performance Metrics:\n",
      "Performance score: 59.0\n",
      "Accessibility score: 86.0\n",
      "Best-practices score: 82.0\n",
      "Seo score: 100\n",
      "https://www.netflix.com/ \n",
      "\n",
      "Error running Lighthouse command for https://www.netflix.com/: Runtime error encountered: Protocol error (Runtime.evaluate): Protocol error (Runtime.evaluate): Target closed\n",
      "Error: Protocol error (Runtime.evaluate): Protocol error (Runtime.evaluate): Target closed\n",
      "    at LighthouseError.fromProtocolMessage (file:///c:/Users/cm_cj/Desktop/Tec/aplicaciones/reto/webscraping/Lighthouse/node_modules/lighthouse/core/lib/lh-error.js:160:19)\n",
      "    at file:///c:/Users/cm_cj/Desktop/Tec/aplicaciones/reto/webscraping/Lighthouse/node_modules/lighthouse/core/gather/session.js:115:29\n",
      "    at runNextTicks (node:internal/process/task_queues:60:5)\n",
      "    at process.processImmediate (node:internal/timers:449:9)\n",
      "    at async ExecutionContext._evaluateInContext (file:///c:/Users/cm_cj/Desktop/Tec/aplicaciones/reto/webscraping/Lighthouse/node_modules/lighthouse/core/gather/driver/execution-context.js:123:22)\n",
      "    at async ExecutionContext.evaluateAsync (file:///c:/Users/cm_cj/Desktop/Tec/aplicaciones/reto/webscraping/Lighthouse/node_modules/lighthouse/core/gather/driver/execution-context.js:173:14)\n",
      "    at async checkForQuiet (file:///c:/Users/cm_cj/Desktop/Tec/aplicaciones/reto/webscraping/Lighthouse/node_modules/lighthouse/core/gather/driver/wait-for-condition.js:240:7)\n",
      "\n",
      "No report generated for lighthouse_report.json\n",
      "https://medium.com/ \n",
      "\n"
     ]
    }
   ],
   "source": [
    "if __name__ == \"__main__\":\n",
    "    chunk_size = 10  # Adjust chunk size as needed\n",
    "    file_path = \"./WebScreenshots.csv\"\n",
    "\n",
    "    with ThreadPoolExecutor(\n",
    "        max_workers=10\n",
    "    ) as executor:  # Adjust number of workers as needed\n",
    "        futures: List[concurrent.futures._base.Future] = []\n",
    "        start_id = 0\n",
    "        for chunk in paralelization.chunked_csv_reader(file_path, chunk_size):\n",
    "            futures.append(executor.submit(paralelization.process_chunk, chunk, start_id))\n",
    "            start_id += len(chunk)\n",
    "\n",
    "        for future in futures:\n",
    "            future.result()  # Wait for all futures to complete"
   ]
  }
 ],
 "metadata": {
  "kernelspec": {
   "display_name": "base",
   "language": "python",
   "name": "python3"
  },
  "language_info": {
   "codemirror_mode": {
    "name": "ipython",
    "version": 3
   },
   "file_extension": ".py",
   "mimetype": "text/x-python",
   "name": "python",
   "nbconvert_exporter": "python",
   "pygments_lexer": "ipython3",
   "version": "3.11.3"
  }
 },
 "nbformat": 4,
 "nbformat_minor": 2
}
