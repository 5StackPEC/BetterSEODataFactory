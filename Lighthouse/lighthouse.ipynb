{
 "cells": [
  {
   "cell_type": "code",
   "execution_count": 1,
   "metadata": {},
   "outputs": [
    {
     "name": "stdout",
     "output_type": "stream",
     "text": [
      "Requirement already satisfied: selenium in c:\\users\\guzma\\appdata\\local\\programs\\python\\python310\\lib\\site-packages (4.21.0)\n",
      "Requirement already satisfied: trio-websocket~=0.9 in c:\\users\\guzma\\appdata\\local\\programs\\python\\python310\\lib\\site-packages (from selenium) (0.11.1)\n",
      "Requirement already satisfied: certifi>=2021.10.8 in c:\\users\\guzma\\appdata\\local\\programs\\python\\python310\\lib\\site-packages (from selenium) (2024.2.2)\n",
      "Requirement already satisfied: urllib3[socks]<3,>=1.26 in c:\\users\\guzma\\appdata\\local\\programs\\python\\python310\\lib\\site-packages (from selenium) (2.2.1)\n",
      "Requirement already satisfied: trio~=0.17 in c:\\users\\guzma\\appdata\\local\\programs\\python\\python310\\lib\\site-packages (from selenium) (0.25.1)\n",
      "Requirement already satisfied: typing_extensions>=4.9.0 in c:\\users\\guzma\\appdata\\roaming\\python\\python310\\site-packages (from selenium) (4.11.0)\n",
      "Requirement already satisfied: attrs>=23.2.0 in c:\\users\\guzma\\appdata\\local\\programs\\python\\python310\\lib\\site-packages (from trio~=0.17->selenium) (23.2.0)\n",
      "Requirement already satisfied: cffi>=1.14 in c:\\users\\guzma\\appdata\\local\\programs\\python\\python310\\lib\\site-packages (from trio~=0.17->selenium) (1.16.0)\n",
      "Requirement already satisfied: outcome in c:\\users\\guzma\\appdata\\local\\programs\\python\\python310\\lib\\site-packages (from trio~=0.17->selenium) (1.3.0.post0)\n",
      "Requirement already satisfied: idna in c:\\users\\guzma\\appdata\\local\\programs\\python\\python310\\lib\\site-packages (from trio~=0.17->selenium) (3.7)\n",
      "Requirement already satisfied: sortedcontainers in c:\\users\\guzma\\appdata\\local\\programs\\python\\python310\\lib\\site-packages (from trio~=0.17->selenium) (2.4.0)\n",
      "Requirement already satisfied: sniffio>=1.3.0 in c:\\users\\guzma\\appdata\\local\\programs\\python\\python310\\lib\\site-packages (from trio~=0.17->selenium) (1.3.1)\n",
      "Requirement already satisfied: exceptiongroup in c:\\users\\guzma\\appdata\\roaming\\python\\python310\\site-packages (from trio~=0.17->selenium) (1.2.1)\n",
      "Requirement already satisfied: wsproto>=0.14 in c:\\users\\guzma\\appdata\\local\\programs\\python\\python310\\lib\\site-packages (from trio-websocket~=0.9->selenium) (1.2.0)\n",
      "Requirement already satisfied: pysocks!=1.5.7,<2.0,>=1.5.6 in c:\\users\\guzma\\appdata\\local\\programs\\python\\python310\\lib\\site-packages (from urllib3[socks]<3,>=1.26->selenium) (1.7.1)\n",
      "Requirement already satisfied: pycparser in c:\\users\\guzma\\appdata\\local\\programs\\python\\python310\\lib\\site-packages (from cffi>=1.14->trio~=0.17->selenium) (2.22)\n",
      "Requirement already satisfied: h11<1,>=0.9.0 in c:\\users\\guzma\\appdata\\local\\programs\\python\\python310\\lib\\site-packages (from wsproto>=0.14->trio-websocket~=0.9->selenium) (0.14.0)\n",
      "Note: you may need to restart the kernel to use updated packages.\n"
     ]
    },
    {
     "name": "stderr",
     "output_type": "stream",
     "text": [
      "\n",
      "[notice] A new release of pip available: 22.2.2 -> 24.0\n",
      "[notice] To update, run: python.exe -m pip install --upgrade pip\n"
     ]
    }
   ],
   "source": [
    "pip install selenium"
   ]
  },
  {
   "cell_type": "code",
   "execution_count": 3,
   "metadata": {},
   "outputs": [],
   "source": [
    "import csv\n",
    "import os\n",
    "import subprocess\n",
    "import json\n",
    "from selenium import webdriver\n",
    "from selenium.webdriver.chrome.options import Options\n",
    "from concurrent.futures import ThreadPoolExecutor\n",
    "\n"
   ]
  },
  {
   "cell_type": "code",
   "execution_count": 4,
   "metadata": {},
   "outputs": [],
   "source": [
    "def run_lighthouse(url):\n",
    "    cmd = f\"lighthouse {url} --output=json --quiet\"\n",
    "    result = subprocess.run(cmd, shell=True, stdout=subprocess.PIPE, stderr=subprocess.PIPE)\n",
    "    \n",
    "    if result.returncode != 0:\n",
    "        print(f\"Error running Lighthouse command for {url}: {result.stderr.decode()}\")\n",
    "        return None\n",
    "    else:\n",
    "        try:\n",
    "            return json.loads(result.stdout)\n",
    "        except json.JSONDecodeError as e:\n",
    "            print(f\"Error decoding JSON for {url}: {e}\")\n",
    "            return None"
   ]
  },
  {
   "cell_type": "code",
   "execution_count": 5,
   "metadata": {},
   "outputs": [],
   "source": [
    "def generate_report(url):\n",
    "    chrome_options = Options()\n",
    "    chrome_options.add_argument(\"--headless\")  # Run Chrome in headless mode\n",
    "    driver = webdriver.Chrome(options=chrome_options)\n",
    "    \n",
    "    driver.get(url)\n",
    "    report = run_lighthouse(url)\n",
    "    \n",
    "    driver.quit()\n",
    "    \n",
    "    return report"
   ]
  },
  {
   "cell_type": "code",
   "execution_count": 6,
   "metadata": {},
   "outputs": [],
   "source": [
    "def save_report(report, filename, url, report_id):\n",
    "    if report is not None:\n",
    "        important_scores = {\n",
    "            'id': report_id,\n",
    "            'url': url,\n",
    "            'performance': report['categories']['performance']['score'] * 100,\n",
    "            'accessibility': report['categories']['accessibility']['score'] * 100,\n",
    "            'best-practices': report['categories']['best-practices']['score'] * 100,\n",
    "            'seo': report['categories']['seo']['score'] * 100\n",
    "        }\n",
    "        \n",
    "        # Read the existing content if the file exists\n",
    "        if os.path.exists(filename):\n",
    "            with open(filename, 'r') as f:\n",
    "                try:\n",
    "                    data = json.load(f)\n",
    "                except json.JSONDecodeError:\n",
    "                    data = {'lighthouseReports': []}\n",
    "        else:\n",
    "            data = {'lighthouseReports': []}\n",
    "        \n",
    "        # Append the new report to the list\n",
    "        data['lighthouseReports'].append(important_scores)\n",
    "        \n",
    "        # Write the updated data back to the file\n",
    "        with open(filename, 'w') as f:\n",
    "            json.dump(data, f, indent=2)\n",
    "            print(f\"Report saved for {filename}\")\n",
    "        \n",
    "        # Print scores to the console\n",
    "        print(\"Lighthouse Performance Metrics:\")\n",
    "        for category, score in important_scores.items():\n",
    "            if category not in ['id', 'url']:\n",
    "                print(f\"{category.capitalize()} score: {score}\")\n",
    "    else:\n",
    "        print(f\"No report generated for {filename}\")"
   ]
  },
  {
   "cell_type": "code",
   "execution_count": 7,
   "metadata": {},
   "outputs": [],
   "source": [
    "def thread_report(csvreader):\n",
    "    for report_id, row in enumerate(csvreader):\n",
    "            url = 'https://' + row[0] + '/'\n",
    "            print(url)\n",
    "            report = generate_report(url)\n",
    "            # filename = f\"lighthouse_report_{url.replace('https://', '').replace('/', '_')}.json\"\n",
    "            save_report(report, \"lighthouse_report.json\", url, report_id)\n",
    "\n"
   ]
  },
  {
   "cell_type": "code",
   "execution_count": 9,
   "metadata": {},
   "outputs": [
    {
     "name": "stdout",
     "output_type": "stream",
     "text": [
      "https://pokemon.com/\n",
      "https://vercel.com/\n",
      "Report saved for lighthouse_report.json\n",
      "Lighthouse Performance Metrics:\n",
      "Performance score: 39.0\n",
      "Accessibility score: 100\n",
      "Best-practices score: 75.0\n",
      "Seo score: 100\n",
      "https://medium.com/\n",
      "Error running Lighthouse command for https://pokemon.com/: Runtime error encountered: Lighthouse was unable to reliably load the URL you requested because the page stopped responding.\n",
      "\n",
      "No report generated for lighthouse_report.json\n",
      "https://viz.com/\n",
      "Report saved for lighthouse_report.json\n",
      "Lighthouse Performance Metrics:\n",
      "Performance score: 69.0\n",
      "Accessibility score: 86.0\n",
      "Best-practices score: 79.0\n",
      "Seo score: 100\n",
      "Report saved for lighthouse_report.json\n",
      "Lighthouse Performance Metrics:\n",
      "Performance score: 30.0\n",
      "Accessibility score: 83.0\n",
      "Best-practices score: 75.0\n",
      "Seo score: 85.0\n"
     ]
    }
   ],
   "source": [
    "def process_chunk(chunk, start_id):\n",
    "    for report_id, row in enumerate(chunk):\n",
    "        url = 'https://' + row[0] + '/'\n",
    "        print(url)\n",
    "        report = generate_report(url)\n",
    "        save_report(report, \"lighthouse_report.json\", url, start_id + report_id)\n",
    "\n",
    "def chunked_csv_reader(file_path, chunk_size):\n",
    "    with open(file_path, newline='') as csvfile:\n",
    "        csvreader = csv.reader(csvfile)\n",
    "        next(csvreader)  # Skip the header\n",
    "        chunk = []\n",
    "        for row in csvreader:\n",
    "            chunk.append(row)\n",
    "            if len(chunk) == chunk_size:\n",
    "                yield chunk\n",
    "                chunk = []\n",
    "        if chunk:  # Yield the last chunk if it's not empty\n",
    "            yield chunk\n",
    "\n",
    "if __name__ == \"__main__\":\n",
    "    chunk_size = 2  # Adjust chunk size as needed\n",
    "    file_path = 'adrian_url.csv'\n",
    "\n",
    "    with ThreadPoolExecutor(max_workers=10) as executor:  # Adjust number of workers as needed\n",
    "        futures = []\n",
    "        start_id = 0\n",
    "        for chunk in chunked_csv_reader(file_path, chunk_size):\n",
    "            futures.append(executor.submit(process_chunk, chunk, start_id))\n",
    "            start_id += len(chunk)\n",
    "\n",
    "        for future in futures:\n",
    "            future.result()  # Wait for all futures to complete\n"
   ]
  },
  {
   "cell_type": "code",
   "execution_count": null,
   "metadata": {},
   "outputs": [],
   "source": []
  }
 ],
 "metadata": {
  "kernelspec": {
   "display_name": "base",
   "language": "python",
   "name": "python3"
  },
  "language_info": {
   "codemirror_mode": {
    "name": "ipython",
    "version": 3
   },
   "file_extension": ".py",
   "mimetype": "text/x-python",
   "name": "python",
   "nbconvert_exporter": "python",
   "pygments_lexer": "ipython3",
   "version": "3.10.6"
  }
 },
 "nbformat": 4,
 "nbformat_minor": 2
}
