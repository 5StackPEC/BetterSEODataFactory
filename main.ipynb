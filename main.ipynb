{
 "cells": [
  {
   "cell_type": "code",
   "execution_count": 1,
   "metadata": {},
   "outputs": [],
   "source": [
    "from selenium import webdriver\n",
    "from selenium.webdriver.common.by import By"
   ]
  },
  {
   "cell_type": "code",
   "execution_count": 2,
   "metadata": {},
   "outputs": [],
   "source": [
    "options = webdriver.ChromeOptions()\n",
    "options.add_experimental_option(\"useAutomationExtension\", False)\n",
    "options.add_experimental_option(\"excludeSwitches\", [\"enable-automation\"])\n",
    "driver = webdriver.Chrome(options=options)\n",
    "driver.get(\"https://vercel.com\")\n",
    "driver.maximize_window()"
   ]
  },
  {
   "cell_type": "code",
   "execution_count": 3,
   "metadata": {},
   "outputs": [],
   "source": [
    "target_tags = [\"h1\", \"nav\"]\n",
    "tag_elements_dictionary = {}"
   ]
  },
  {
   "cell_type": "code",
   "execution_count": 4,
   "metadata": {},
   "outputs": [
    {
     "ename": "JavascriptException",
     "evalue": "Message: javascript error: myFunction is not defined\n  (Session info: chrome=124.0.6367.119)\nStacktrace:\n\tGetHandleVerifier [0x00007FF7DF6F1502+60802]\n\t(No symbol) [0x00007FF7DF66AC02]\n\t(No symbol) [0x00007FF7DF527CE4]\n\t(No symbol) [0x00007FF7DF52DE26]\n\t(No symbol) [0x00007FF7DF5304F6]\n\t(No symbol) [0x00007FF7DF5BAEC3]\n\t(No symbol) [0x00007FF7DF59AB7A]\n\t(No symbol) [0x00007FF7DF5BA224]\n\t(No symbol) [0x00007FF7DF59A923]\n\t(No symbol) [0x00007FF7DF568FEC]\n\t(No symbol) [0x00007FF7DF569C21]\n\tGetHandleVerifier [0x00007FF7DF9F411D+3217821]\n\tGetHandleVerifier [0x00007FF7DFA360B7+3488055]\n\tGetHandleVerifier [0x00007FF7DFA2F03F+3459263]\n\tGetHandleVerifier [0x00007FF7DF7AB846+823494]\n\t(No symbol) [0x00007FF7DF675F9F]\n\t(No symbol) [0x00007FF7DF670EC4]\n\t(No symbol) [0x00007FF7DF671052]\n\t(No symbol) [0x00007FF7DF6618A4]\n\tBaseThreadInitThunk [0x00007FFFE4ED7344+20]\n\tRtlUserThreadStart [0x00007FFFE61C26B1+33]\n",
     "output_type": "error",
     "traceback": [
      "\u001b[1;31m---------------------------------------------------------------------------\u001b[0m",
      "\u001b[1;31mJavascriptException\u001b[0m                       Traceback (most recent call last)",
      "Cell \u001b[1;32mIn[4], line 39\u001b[0m\n\u001b[0;32m     37\u001b[0m \u001b[38;5;66;03m# Execute the function\u001b[39;00m\n\u001b[0;32m     38\u001b[0m driver\u001b[38;5;241m.\u001b[39mexecute_script(js_code)\n\u001b[1;32m---> 39\u001b[0m \u001b[43mdriver\u001b[49m\u001b[38;5;241;43m.\u001b[39;49m\u001b[43mexecute_script\u001b[49m\u001b[43m(\u001b[49m\u001b[43mfunction_call\u001b[49m\u001b[43m)\u001b[49m\n",
      "File \u001b[1;32mc:\\Users\\cm_cj\\Desktop\\Tec\\aplicaciones\\reto\\webscraping\\.venv\\Lib\\site-packages\\selenium\\webdriver\\remote\\webdriver.py:407\u001b[0m, in \u001b[0;36mWebDriver.execute_script\u001b[1;34m(self, script, *args)\u001b[0m\n\u001b[0;32m    404\u001b[0m converted_args \u001b[38;5;241m=\u001b[39m \u001b[38;5;28mlist\u001b[39m(args)\n\u001b[0;32m    405\u001b[0m command \u001b[38;5;241m=\u001b[39m Command\u001b[38;5;241m.\u001b[39mW3C_EXECUTE_SCRIPT\n\u001b[1;32m--> 407\u001b[0m \u001b[38;5;28;01mreturn\u001b[39;00m \u001b[38;5;28;43mself\u001b[39;49m\u001b[38;5;241;43m.\u001b[39;49m\u001b[43mexecute\u001b[49m\u001b[43m(\u001b[49m\u001b[43mcommand\u001b[49m\u001b[43m,\u001b[49m\u001b[43m \u001b[49m\u001b[43m{\u001b[49m\u001b[38;5;124;43m\"\u001b[39;49m\u001b[38;5;124;43mscript\u001b[39;49m\u001b[38;5;124;43m\"\u001b[39;49m\u001b[43m:\u001b[49m\u001b[43m \u001b[49m\u001b[43mscript\u001b[49m\u001b[43m,\u001b[49m\u001b[43m \u001b[49m\u001b[38;5;124;43m\"\u001b[39;49m\u001b[38;5;124;43margs\u001b[39;49m\u001b[38;5;124;43m\"\u001b[39;49m\u001b[43m:\u001b[49m\u001b[43m \u001b[49m\u001b[43mconverted_args\u001b[49m\u001b[43m}\u001b[49m\u001b[43m)\u001b[49m[\u001b[38;5;124m\"\u001b[39m\u001b[38;5;124mvalue\u001b[39m\u001b[38;5;124m\"\u001b[39m]\n",
      "File \u001b[1;32mc:\\Users\\cm_cj\\Desktop\\Tec\\aplicaciones\\reto\\webscraping\\.venv\\Lib\\site-packages\\selenium\\webdriver\\remote\\webdriver.py:347\u001b[0m, in \u001b[0;36mWebDriver.execute\u001b[1;34m(self, driver_command, params)\u001b[0m\n\u001b[0;32m    345\u001b[0m response \u001b[38;5;241m=\u001b[39m \u001b[38;5;28mself\u001b[39m\u001b[38;5;241m.\u001b[39mcommand_executor\u001b[38;5;241m.\u001b[39mexecute(driver_command, params)\n\u001b[0;32m    346\u001b[0m \u001b[38;5;28;01mif\u001b[39;00m response:\n\u001b[1;32m--> 347\u001b[0m     \u001b[38;5;28;43mself\u001b[39;49m\u001b[38;5;241;43m.\u001b[39;49m\u001b[43merror_handler\u001b[49m\u001b[38;5;241;43m.\u001b[39;49m\u001b[43mcheck_response\u001b[49m\u001b[43m(\u001b[49m\u001b[43mresponse\u001b[49m\u001b[43m)\u001b[49m\n\u001b[0;32m    348\u001b[0m     response[\u001b[38;5;124m\"\u001b[39m\u001b[38;5;124mvalue\u001b[39m\u001b[38;5;124m\"\u001b[39m] \u001b[38;5;241m=\u001b[39m \u001b[38;5;28mself\u001b[39m\u001b[38;5;241m.\u001b[39m_unwrap_value(response\u001b[38;5;241m.\u001b[39mget(\u001b[38;5;124m\"\u001b[39m\u001b[38;5;124mvalue\u001b[39m\u001b[38;5;124m\"\u001b[39m, \u001b[38;5;28;01mNone\u001b[39;00m))\n\u001b[0;32m    349\u001b[0m     \u001b[38;5;28;01mreturn\u001b[39;00m response\n",
      "File \u001b[1;32mc:\\Users\\cm_cj\\Desktop\\Tec\\aplicaciones\\reto\\webscraping\\.venv\\Lib\\site-packages\\selenium\\webdriver\\remote\\errorhandler.py:229\u001b[0m, in \u001b[0;36mErrorHandler.check_response\u001b[1;34m(self, response)\u001b[0m\n\u001b[0;32m    227\u001b[0m         alert_text \u001b[38;5;241m=\u001b[39m value[\u001b[38;5;124m\"\u001b[39m\u001b[38;5;124malert\u001b[39m\u001b[38;5;124m\"\u001b[39m]\u001b[38;5;241m.\u001b[39mget(\u001b[38;5;124m\"\u001b[39m\u001b[38;5;124mtext\u001b[39m\u001b[38;5;124m\"\u001b[39m)\n\u001b[0;32m    228\u001b[0m     \u001b[38;5;28;01mraise\u001b[39;00m exception_class(message, screen, stacktrace, alert_text)  \u001b[38;5;66;03m# type: ignore[call-arg]  # mypy is not smart enough here\u001b[39;00m\n\u001b[1;32m--> 229\u001b[0m \u001b[38;5;28;01mraise\u001b[39;00m exception_class(message, screen, stacktrace)\n",
      "\u001b[1;31mJavascriptException\u001b[0m: Message: javascript error: myFunction is not defined\n  (Session info: chrome=124.0.6367.119)\nStacktrace:\n\tGetHandleVerifier [0x00007FF7DF6F1502+60802]\n\t(No symbol) [0x00007FF7DF66AC02]\n\t(No symbol) [0x00007FF7DF527CE4]\n\t(No symbol) [0x00007FF7DF52DE26]\n\t(No symbol) [0x00007FF7DF5304F6]\n\t(No symbol) [0x00007FF7DF5BAEC3]\n\t(No symbol) [0x00007FF7DF59AB7A]\n\t(No symbol) [0x00007FF7DF5BA224]\n\t(No symbol) [0x00007FF7DF59A923]\n\t(No symbol) [0x00007FF7DF568FEC]\n\t(No symbol) [0x00007FF7DF569C21]\n\tGetHandleVerifier [0x00007FF7DF9F411D+3217821]\n\tGetHandleVerifier [0x00007FF7DFA360B7+3488055]\n\tGetHandleVerifier [0x00007FF7DFA2F03F+3459263]\n\tGetHandleVerifier [0x00007FF7DF7AB846+823494]\n\t(No symbol) [0x00007FF7DF675F9F]\n\t(No symbol) [0x00007FF7DF670EC4]\n\t(No symbol) [0x00007FF7DF671052]\n\t(No symbol) [0x00007FF7DF6618A4]\n\tBaseThreadInitThunk [0x00007FFFE4ED7344+20]\n\tRtlUserThreadStart [0x00007FFFE61C26B1+33]\n"
     ]
    }
   ],
   "source": [
    "def paint_corner_labels(posX, posY):\n",
    "    driver.execute_script(\n",
    "        f\"\"\"\n",
    "\t\tvar div = document.createElement(\"div\");\n",
    "\n",
    "\t\t// Set the content of the div (optional)\n",
    "\t\tdiv.textContent = '{posX}, {posY}';\n",
    "        \n",
    "\t\tdiv.style.position = \"absolute\";\n",
    "        \n",
    "\t\t// Append the div to the document body since getting the size is only possible after doing so\n",
    "\t\tdocument.body.appendChild(div);\n",
    "        \n",
    "        var centerX = {posX} - (div.offsetWidth / 2);\n",
    "\t\tvar centerY = {posY} - (div.offsetHeight / 2);\n",
    "        \n",
    "\t\tconst offset_widths = [div.offsetWidth, div.offsetWidth / 2, div.offsetHeight, div.offsetHeight / 2]\n",
    "\n",
    "\t\t// Apply CSS styles for positioning\n",
    "\t\tdiv.style.left = centerX + 'px'; // Adjust left position as needed\n",
    "\t\tdiv.style.top = centerY + 'px'; // Adjust top position as needed\n",
    "\t\tdiv.style.backgroundColor = \"rgba(255, 0, 0, 0.5)\"; // Example background color\n",
    "\n",
    "\t\t\"\"\"\n",
    "    )\n",
    "\n",
    "with open(\"./js/boundingBoxes.js\", \"r\") as file:\n",
    "    js_code = file.read()\n",
    "\n",
    "# Function name and parameters\n",
    "function_name = \"myFunction\"\n",
    "params = [\"hello\", \"world\"]\n",
    "\n",
    "# Constructing the function call\n",
    "function_call = f\"{function_name}({', '.join(params)});\"\n",
    "\n",
    "# Execute the function\n",
    "driver.execute_script(js_code)\n",
    "driver.execute_script(function_call)"
   ]
  },
  {
   "cell_type": "code",
   "execution_count": 70,
   "metadata": {},
   "outputs": [
    {
     "name": "stdout",
     "output_type": "stream",
     "text": [
      "{'height': 99, 'width': 802}\n",
      "{'x': 359, 'y': 290}\n",
      "{'height': 33, 'width': 442}\n",
      "{'x': 189, 'y': 15}\n",
      "{'height': 194, 'width': 1400}\n",
      "{'x': 60, 'y': 5940}\n"
     ]
    }
   ],
   "source": [
    "moves = [(0, 0), (0, 1), (1, 0), (1, 1)]\n",
    "for tag in target_tags:\n",
    "    current_tags = driver.find_elements(By.TAG_NAME, tag)\n",
    "    for element in current_tags:\n",
    "        driver.execute_script(\"arguments[0].style.border = 'tomato solid 2px';\", element)\n",
    "        size = element.size\n",
    "        if size[\"width\"] == 0 or size[\"height\"] == 0:\n",
    "            continue\n",
    "        location = element.location\n",
    "        print(size)\n",
    "        print(location)\n",
    "        for move in moves:\n",
    "            posX = location[\"x\"] + (size[\"width\"] * move[0])\n",
    "            posY = location[\"y\"] + (size[\"height\"] * move[1])\n",
    "            paint_corner_labels(posX, posY)"
   ]
  },
  {
   "cell_type": "code",
   "execution_count": 68,
   "metadata": {},
   "outputs": [
    {
     "name": "stdout",
     "output_type": "stream",
     "text": [
      "{'height': 99, 'width': 802}\n",
      "{'x': 359, 'y': 290}\n"
     ]
    }
   ],
   "source": [
    "moves = [(0, 0), (0, 1), (1, 0), (1, 1)]\n",
    "for h1 in h1_tags:\n",
    "    driver.execute_script(\"arguments[0].style.border = 'tomato solid 2px';\", h1)\n",
    "    size = h1.size\n",
    "    if size[\"width\"] == 0 or size[\"height\"] == 0:\n",
    "        continue\n",
    "    print(size)\n",
    "    location = h1.location\n",
    "    print(location)\n",
    "    for item in moves:\n",
    "        posX = location[\"x\"] + (size[\"width\"] * item[0])\n",
    "        posY = location[\"y\"] + (size[\"height\"] * item[1])\n",
    "        paint_corner_labels(posX, posY)\n",
    "        "
   ]
  },
  {
   "cell_type": "code",
   "execution_count": null,
   "metadata": {},
   "outputs": [],
   "source": [
    "paint_corner_labels(359, 290)"
   ]
  },
  {
   "cell_type": "code",
   "execution_count": null,
   "metadata": {},
   "outputs": [],
   "source": [
    "for nav in nav_tags:\n",
    "    driver.execute_script(\"arguments[0].style.border = 'blue solid 2px';\", nav)"
   ]
  },
  {
   "cell_type": "code",
   "execution_count": null,
   "metadata": {},
   "outputs": [],
   "source": [
    "driver.execute_script(\n",
    "    f\"\"\"\n",
    "\tvar div = document.createElement(\"div\");\n",
    "\n",
    "\t// Set the content of the div (optional)\n",
    "\tdiv.textContent = '{location[\"x\"] + size[\"width\"]}, {location[\"y\"]}';\n",
    "\n",
    "\t// Apply CSS styles for positioning\n",
    "\tdiv.style.position = \"absolute\";\n",
    "\tdiv.style.top = '{location[\"y\"]}px'; // Adjust top position as needed\n",
    "    div.style.left = '{location[\"x\"] + size[\"width\"]}px'; // Adjust left position as needed\n",
    "\tdiv.style.backgroundColor = \"rgba(255, 0, 0, 0.5)\"; // Example background color\n",
    "\n",
    "\t// Append the div to the document body\n",
    "\tdocument.body.appendChild(div);\n",
    "  \t\"\"\"\n",
    ")"
   ]
  },
  {
   "cell_type": "code",
   "execution_count": null,
   "metadata": {},
   "outputs": [],
   "source": [
    "driver.execute_script(\n",
    "    f\"\"\"\n",
    "\tvar div = document.createElement(\"div\");\n",
    "\n",
    "\t// Set the content of the div (optional)\n",
    "\tdiv.textContent = '{location[\"x\"] + size[\"width\"]}, {location[\"y\"]}';\n",
    "\n",
    "\t// Apply CSS styles for positioning\n",
    "\tdiv.style.position = \"absolute\";\n",
    "\tdiv.style.top = '{location[\"y\"]}px'; // Adjust top position as needed\n",
    "    div.style.left = '{location[\"x\"] + size[\"width\"]}px'; // Adjust left position as needed\n",
    "\tdiv.style.backgroundColor = \"rgba(255, 0, 0, 0.5)\"; // Example background color\n",
    "\n",
    "\t// Append the div to the document body\n",
    "\tdocument.body.appendChild(div);\n",
    "  \t\"\"\"\n",
    ")"
   ]
  },
  {
   "cell_type": "code",
   "execution_count": null,
   "metadata": {},
   "outputs": [],
   "source": [
    "driver.execute_script(\n",
    "    f\"\"\"\n",
    "\tvar div = document.createElement(\"div\");\n",
    "\n",
    "\t// Set the content of the div (optional)\n",
    "\tdiv.textContent = '{location[\"x\"]}, {location[\"y\"] + size[\"height\"]}';\n",
    "\n",
    "\t// Apply CSS styles for positioning\n",
    "\tdiv.style.position = \"absolute\";\n",
    "\tdiv.style.top = '{location[\"y\"] + size[\"height\"]}px'; // Adjust top position as needed\n",
    "    div.style.left = '{location[\"x\"]}px'; // Adjust left position as needed\n",
    "\tdiv.style.backgroundColor = \"rgba(255, 0, 0, 0.5)\"; // Example background color\n",
    "\n",
    "\t// Append the div to the document body\n",
    "\tdocument.body.appendChild(div);\n",
    "  \t\"\"\"\n",
    ")"
   ]
  },
  {
   "cell_type": "code",
   "execution_count": null,
   "metadata": {},
   "outputs": [],
   "source": [
    "driver.execute_script(\n",
    "    f\"\"\"\n",
    "\tvar div = document.createElement(\"div\");\n",
    "\n",
    "\t// Set the content of the div (optional)\n",
    "\tdiv.textContent = '{location[\"x\"] + size[\"width\"]} , {location[\"y\"] + size[\"height\"]}';\n",
    "\n",
    "\t// Apply CSS styles for positioning\n",
    "\tdiv.style.position = \"absolute\";\n",
    "\tdiv.style.top = '{location[\"y\"] + size[\"height\"]}px'; // Adjust top position as needed\n",
    "    div.style.left = '{location[\"x\"] + size[\"width\"]}px'; // Adjust left position as needed\n",
    "\tdiv.style.backgroundColor = \"rgba(255, 0, 0, 0.5)\"; // Example background color\n",
    "\n",
    "\t// Append the div to the document body\n",
    "\tdocument.body.appendChild(div);\n",
    "  \t\"\"\"\n",
    ")"
   ]
  },
  {
   "cell_type": "code",
   "execution_count": null,
   "metadata": {},
   "outputs": [],
   "source": [
    "driver.fullscreen_window()\n",
    "driver.save_screenshot(\"./ss2.png\")\n",
    "driver.quit()"
   ]
  }
 ],
 "metadata": {
  "kernelspec": {
   "display_name": ".venv",
   "language": "python",
   "name": "python3"
  },
  "language_info": {
   "codemirror_mode": {
    "name": "ipython",
    "version": 3
   },
   "file_extension": ".py",
   "mimetype": "text/x-python",
   "name": "python",
   "nbconvert_exporter": "python",
   "pygments_lexer": "ipython3",
   "version": "3.11.3"
  }
 },
 "nbformat": 4,
 "nbformat_minor": 2
}
