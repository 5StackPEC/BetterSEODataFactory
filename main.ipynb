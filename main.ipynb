{
 "cells": [
  {
   "cell_type": "code",
   "execution_count": 1,
   "metadata": {},
   "outputs": [],
   "source": [
    "from selenium import webdriver\n",
    "from utils import visual_utils, webscraping_utils, web_utils, annotations_utils"
   ]
  },
  {
   "cell_type": "code",
   "execution_count": 2,
   "metadata": {},
   "outputs": [],
   "source": [
    "from selenium.webdriver.remote.webelement import WebElement"
   ]
  },
  {
   "cell_type": "code",
   "execution_count": 3,
   "metadata": {},
   "outputs": [],
   "source": [
    "URL = \"https://vercel.com\""
   ]
  },
  {
   "cell_type": "code",
   "execution_count": 4,
   "metadata": {},
   "outputs": [],
   "source": [
    "options = webdriver.ChromeOptions()\n",
    "options.add_experimental_option(\"useAutomationExtension\", False)\n",
    "options.add_experimental_option(\"excludeSwitches\", [\"enable-automation\"])\n",
    "driver = webdriver.Chrome(options=options)\n",
    "driver.get(URL)\n",
    "driver.maximize_window()"
   ]
  },
  {
   "cell_type": "code",
   "execution_count": 5,
   "metadata": {},
   "outputs": [],
   "source": [
    "target_tags = [\"h1\", \"nav\", \"content\", \"main\", \"h2\", \"h3\"]\n",
    "tag_elements_dictionary = {}"
   ]
  },
  {
   "cell_type": "code",
   "execution_count": 6,
   "metadata": {},
   "outputs": [
    {
     "name": "stdout",
     "output_type": "stream",
     "text": [
      "Invalid h1 size found.\n"
     ]
    }
   ],
   "source": [
    "bounding_boxes_dict = webscraping_utils.generate_bounding_boxes_of_tags(\n",
    "    driver, target_tags\n",
    ")\n",
    "lighthouse_score = 100\n",
    "annoation = annotations_utils.generate_annotation(\n",
    "    URL, lighthouse_score, bounding_boxes_dict\n",
    ")"
   ]
  },
  {
   "cell_type": "code",
   "execution_count": 7,
   "metadata": {},
   "outputs": [
    {
     "data": {
      "text/plain": [
       "[{'vercel.png': {'image': 'vercel',\n",
       "   'lightHouseScore': 100,\n",
       "   'tags': {'h1': [None, [359, 291, 802, 96]],\n",
       "    'nav': [[189, 17, 439, 30], [60, 7677, 1400, 190]],\n",
       "    'content': [],\n",
       "    'main': [[221, 155, 1079, 719]],\n",
       "    'h2': [[293, 1876, 169, 20],\n",
       "     [832, 1876, 213, 20],\n",
       "     [293, 2454, 169, 20],\n",
       "     [293, 2953, 129, 20],\n",
       "     [832, 2953, 100, 20],\n",
       "     [450, 3488, 113, 28],\n",
       "     [709, 3488, 239, 28],\n",
       "     [403, 3730, 352, 28],\n",
       "     [269, 4999, 518, 28],\n",
       "     [988, 4999, 128, 28],\n",
       "     [269, 5371, 263, 66],\n",
       "     [269, 5814, 471, 48],\n",
       "     [269, 6638, 263, 144],\n",
       "     [308, 7689, 320, 18],\n",
       "     [652, 7689, 320, 18],\n",
       "     [996, 7689, 320, 18],\n",
       "     [1340, 7689, 120, 18]],\n",
       "    'h3': [[293, 5959, 130, 20],\n",
       "     [652, 5959, 142, 20],\n",
       "     [293, 6196, 147, 20],\n",
       "     [652, 6196, 152, 20],\n",
       "     [1012, 6196, 141, 20]]}}}]"
      ]
     },
     "execution_count": 7,
     "metadata": {},
     "output_type": "execute_result"
    }
   ],
   "source": [
    "annoation"
   ]
  },
  {
   "cell_type": "code",
   "execution_count": 8,
   "metadata": {},
   "outputs": [],
   "source": [
    "annotations_utils.write_json_annotation(annoation)"
   ]
  },
  {
   "cell_type": "code",
   "execution_count": 9,
   "metadata": {},
   "outputs": [],
   "source": [
    "driver.quit()"
   ]
  }
 ],
 "metadata": {
  "kernelspec": {
   "display_name": ".venv",
   "language": "python",
   "name": "python3"
  },
  "language_info": {
   "codemirror_mode": {
    "name": "ipython",
    "version": 3
   },
   "file_extension": ".py",
   "mimetype": "text/x-python",
   "name": "python",
   "nbconvert_exporter": "python",
   "pygments_lexer": "ipython3",
   "version": "3.11.3"
  }
 },
 "nbformat": 4,
 "nbformat_minor": 2
}
