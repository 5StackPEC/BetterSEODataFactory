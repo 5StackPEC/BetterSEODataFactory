{
 "cells": [
  {
   "cell_type": "code",
   "execution_count": 16,
   "metadata": {},
   "outputs": [],
   "source": [
    "from selenium import webdriver\n",
    "from selenium.webdriver.common.by import By\n",
    "from urllib.parse import urlparse\n",
    "import json"
   ]
  },
  {
   "cell_type": "code",
   "execution_count": 17,
   "metadata": {},
   "outputs": [],
   "source": [
    "URL = \"https://vercel.com\""
   ]
  },
  {
   "cell_type": "code",
   "execution_count": 18,
   "metadata": {},
   "outputs": [],
   "source": [
    "options = webdriver.ChromeOptions()\n",
    "options.add_experimental_option(\"useAutomationExtension\", False)\n",
    "options.add_experimental_option(\"excludeSwitches\", [\"enable-automation\"])\n",
    "driver = webdriver.Chrome(options=options)\n",
    "driver.get(URL)\n",
    "driver.maximize_window()"
   ]
  },
  {
   "cell_type": "code",
   "execution_count": 19,
   "metadata": {},
   "outputs": [],
   "source": [
    "target_tags = [\"h1\", \"nav\", \"content\", \"main\", \"h2\", \"h3\"]\n",
    "tag_elements_dictionary = {}"
   ]
  },
  {
   "cell_type": "code",
   "execution_count": 20,
   "metadata": {},
   "outputs": [],
   "source": [
    "with open(\"./js/boundingBoxes.js\", \"r\") as file:\n",
    "    js_code = file.read()\n",
    "\n",
    "driver.execute_script(js_code)"
   ]
  },
  {
   "cell_type": "code",
   "execution_count": 21,
   "metadata": {},
   "outputs": [],
   "source": [
    "def paintCornerLabels(tag_name):\n",
    "    corners = [(0, 0), (0, 1), (1, 0), (1, 1)]\n",
    "    tag_elements = driver.find_elements(By.TAG_NAME, tag_name)\n",
    "    for element in tag_elements:\n",
    "        driver.execute_script(\n",
    "            \"arguments[0].style.border = 'tomato solid 2px';\", element\n",
    "        )\n",
    "        size = element.size\n",
    "        if size[\"width\"] == 0 or size[\"height\"] == 0:\n",
    "            continue\n",
    "        location = element.location\n",
    "        for corner in corners:\n",
    "            posX = location[\"x\"] + (size[\"width\"] * corner[0])\n",
    "            posY = location[\"y\"] + (size[\"height\"] * corner[1])\n",
    "            driver.execute_script(f\"paintCornerLabels({posX},{posY})\")"
   ]
  },
  {
   "cell_type": "code",
   "execution_count": 22,
   "metadata": {},
   "outputs": [],
   "source": [
    "for tag in target_tags:\n",
    "    paintCornerLabels(tag)"
   ]
  },
  {
   "cell_type": "code",
   "execution_count": 23,
   "metadata": {},
   "outputs": [],
   "source": [
    "def get_tag_bounding_boxes(tag_name):\n",
    "    tag_elements = driver.find_elements(By.TAG_NAME, tag_name)\n",
    "    elements_bounding_boxes = []\n",
    "    for element in tag_elements:\n",
    "        size = element.size\n",
    "        if size[\"width\"] == 0 or size[\"height\"] == 0:\n",
    "            continue\n",
    "        location = element.location\n",
    "        elements_bounding_boxes.append(\n",
    "            [location[\"x\"], location[\"y\"], size[\"width\"], size[\"height\"]]\n",
    "        )\n",
    "\n",
    "    return elements_bounding_boxes"
   ]
  },
  {
   "cell_type": "code",
   "execution_count": 24,
   "metadata": {},
   "outputs": [
    {
     "data": {
      "text/plain": [
       "[[360, 291, 802, 99]]"
      ]
     },
     "execution_count": 24,
     "metadata": {},
     "output_type": "execute_result"
    }
   ],
   "source": [
    "get_tag_bounding_boxes(\"h1\")"
   ]
  },
  {
   "cell_type": "code",
   "execution_count": 25,
   "metadata": {},
   "outputs": [],
   "source": [
    "bounding_boxes_dict = {}\n",
    "for tag in target_tags:\n",
    "    bounding_boxes_dict[tag] = get_tag_bounding_boxes(tag)"
   ]
  },
  {
   "cell_type": "code",
   "execution_count": 26,
   "metadata": {},
   "outputs": [
    {
     "data": {
      "text/plain": [
       "{'h1': [[360, 291, 802, 99]],\n",
       " 'nav': [[189, 15, 442, 33], [60, 7700, 1400, 197]],\n",
       " 'content': [],\n",
       " 'main': [[220, 155, 1080, 723]],\n",
       " 'h2': [[292, 1879, 172, 23],\n",
       "  [832, 1879, 216, 23],\n",
       "  [292, 2461, 172, 23],\n",
       "  [292, 2959, 132, 23],\n",
       "  [832, 2959, 103, 23],\n",
       "  [446, 3496, 117, 31],\n",
       "  [709, 3496, 242, 31],\n",
       "  [401, 3738, 355, 31],\n",
       "  [268, 5007, 522, 31],\n",
       "  [987, 5007, 132, 31],\n",
       "  [268, 5379, 263, 70],\n",
       "  [268, 5824, 475, 51],\n",
       "  [268, 6657, 263, 147],\n",
       "  [309, 7713, 319, 21],\n",
       "  [652, 7713, 319, 21],\n",
       "  [995, 7713, 319, 21],\n",
       "  [1338, 7713, 120, 21]],\n",
       " 'h3': [[292, 5972, 133, 23],\n",
       "  [652, 5972, 146, 23],\n",
       "  [292, 6212, 150, 23],\n",
       "  [652, 6212, 155, 23],\n",
       "  [1011, 6212, 144, 23]]}"
      ]
     },
     "execution_count": 26,
     "metadata": {},
     "output_type": "execute_result"
    }
   ],
   "source": [
    "bounding_boxes_dict"
   ]
  },
  {
   "cell_type": "code",
   "execution_count": 27,
   "metadata": {},
   "outputs": [],
   "source": [
    "def get_site_name(url):\n",
    "    parsed_url = urlparse(url)\n",
    "    domain = parsed_url.netloc\n",
    "    domain_name = domain.split(\".\")[0]\n",
    "    return domain_name"
   ]
  },
  {
   "cell_type": "code",
   "execution_count": 28,
   "metadata": {},
   "outputs": [
    {
     "data": {
      "text/plain": [
       "True"
      ]
     },
     "execution_count": 28,
     "metadata": {},
     "output_type": "execute_result"
    }
   ],
   "source": [
    "driver.fullscreen_window()\n",
    "driver.save_screenshot(f\"./dataset/images/{get_site_name(URL)}.png\")"
   ]
  },
  {
   "cell_type": "code",
   "execution_count": 29,
   "metadata": {},
   "outputs": [],
   "source": [
    "annotation = [{f\"{get_site_name(URL)}.png\": bounding_boxes_dict}]"
   ]
  },
  {
   "cell_type": "code",
   "execution_count": 30,
   "metadata": {},
   "outputs": [],
   "source": [
    "with open(\"./dataset/annotations/annotations.json\", \"w\") as json_file:\n",
    "    json.dump(annotation, json_file)"
   ]
  },
  {
   "cell_type": "code",
   "execution_count": 31,
   "metadata": {},
   "outputs": [],
   "source": [
    "driver.quit()"
   ]
  }
 ],
 "metadata": {
  "kernelspec": {
   "display_name": ".venv",
   "language": "python",
   "name": "python3"
  },
  "language_info": {
   "codemirror_mode": {
    "name": "ipython",
    "version": 3
   },
   "file_extension": ".py",
   "mimetype": "text/x-python",
   "name": "python",
   "nbconvert_exporter": "python",
   "pygments_lexer": "ipython3",
   "version": "3.11.3"
  }
 },
 "nbformat": 4,
 "nbformat_minor": 2
}
