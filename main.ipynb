{
 "cells": [
  {
   "cell_type": "code",
   "execution_count": 1,
   "metadata": {},
   "outputs": [],
   "source": [
    "from selenium import webdriver\n",
    "from utils import (\n",
    "    lighthouse_utils,\n",
    "    webscraping_utils,\n",
    "    annotations_utils,\n",
    "    web_utils,\n",
    "    selenium_utils,\n",
    "    const,\n",
    ")"
   ]
  },
  {
   "cell_type": "code",
   "execution_count": 2,
   "metadata": {},
   "outputs": [],
   "source": [
    "from selenium.webdriver.remote.webelement import WebElement"
   ]
  },
  {
   "cell_type": "code",
   "execution_count": 3,
   "metadata": {},
   "outputs": [],
   "source": [
    "url = \"https://vercel.com\""
   ]
  },
  {
   "cell_type": "code",
   "execution_count": 6,
   "metadata": {},
   "outputs": [
    {
     "name": "stdout",
     "output_type": "stream",
     "text": [
      "driver initialized\n"
     ]
    }
   ],
   "source": [
    "driver = selenium_utils.initialize_driver()\n",
    "\n",
    "annotation = annotations_utils.generate_annotation_from_url(driver, url)\n"
   ]
  },
  {
   "cell_type": "code",
   "execution_count": 6,
   "metadata": {},
   "outputs": [
    {
     "name": "stdout",
     "output_type": "stream",
     "text": [
      "Invalid h1 size found.\n"
     ]
    }
   ],
   "source": [
    "bounding_boxes_dict = webscraping_utils.generate_bounding_boxes_of_tags(\n",
    "    driver, const.TARGET_TAGS\n",
    ")\n",
    "lighthouse_score = lighthouse_utils.get_lighhouse_score()\n",
    "annotation = annotations_utils.generate_annotation(\n",
    "    url, lighthouse_score, bounding_boxes_dict\n",
    ")"
   ]
  },
  {
   "cell_type": "code",
   "execution_count": 11,
   "metadata": {},
   "outputs": [],
   "source": [
    "annotations_utils.make_annotation_on_csv_file(annotation)"
   ]
  },
  {
   "cell_type": "code",
   "execution_count": null,
   "metadata": {},
   "outputs": [],
   "source": [
    "driver.quit()"
   ]
  }
 ],
 "metadata": {
  "kernelspec": {
   "display_name": ".venv",
   "language": "python",
   "name": "python3"
  },
  "language_info": {
   "codemirror_mode": {
    "name": "ipython",
    "version": 3
   },
   "file_extension": ".py",
   "mimetype": "text/x-python",
   "name": "python",
   "nbconvert_exporter": "python",
   "pygments_lexer": "ipython3",
   "version": "3.11.3"
  }
 },
 "nbformat": 4,
 "nbformat_minor": 2
}
