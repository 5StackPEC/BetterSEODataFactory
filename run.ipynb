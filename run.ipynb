{
 "cells": [
  {
   "cell_type": "code",
   "execution_count": 1,
   "metadata": {},
   "outputs": [],
   "source": [
    "from Lighthouse.lighthouse_utils import reports, paralelization\n",
    "from concurrent.futures import ThreadPoolExecutor\n",
    "from utils import web"
   ]
  },
  {
   "cell_type": "code",
   "execution_count": 2,
   "metadata": {},
   "outputs": [],
   "source": [
    "url = \"https://primevideo.com\""
   ]
  },
  {
   "cell_type": "code",
   "execution_count": 11,
   "metadata": {},
   "outputs": [],
   "source": [
    "full_report = reports.get_full_lighthouse_report(url)"
   ]
  },
  {
   "cell_type": "code",
   "execution_count": 12,
   "metadata": {},
   "outputs": [
    {
     "name": "stdout",
     "output_type": "stream",
     "text": [
      "{'title': 'Performance', 'supportedModes': ['navigation', 'timespan', 'snapshot'], 'auditRefs': [{'id': 'first-contentful-paint', 'weight': 10, 'group': 'metrics', 'acronym': 'FCP'}, {'id': 'largest-contentful-paint', 'weight': 25, 'group': 'metrics', 'acronym': 'LCP'}, {'id': 'total-blocking-time', 'weight': 30, 'group': 'metrics', 'acronym': 'TBT'}, {'id': 'cumulative-layout-shift', 'weight': 25, 'group': 'metrics', 'acronym': 'CLS'}, {'id': 'speed-index', 'weight': 10, 'group': 'metrics', 'acronym': 'SI'}, {'id': 'interactive', 'weight': 0, 'group': 'hidden', 'acronym': 'TTI'}, {'id': 'max-potential-fid', 'weight': 0, 'group': 'hidden'}, {'id': 'first-meaningful-paint', 'weight': 0, 'acronym': 'FMP', 'group': 'hidden'}, {'id': 'render-blocking-resources', 'weight': 0, 'group': 'diagnostics'}, {'id': 'uses-responsive-images', 'weight': 0, 'group': 'diagnostics'}, {'id': 'offscreen-images', 'weight': 0, 'group': 'diagnostics'}, {'id': 'unminified-css', 'weight': 0, 'group': 'diagnostics'}, {'id': 'unminified-javascript', 'weight': 0, 'group': 'diagnostics'}, {'id': 'unused-css-rules', 'weight': 0, 'group': 'diagnostics'}, {'id': 'unused-javascript', 'weight': 0, 'group': 'diagnostics'}, {'id': 'uses-optimized-images', 'weight': 0, 'group': 'diagnostics'}, {'id': 'modern-image-formats', 'weight': 0, 'group': 'diagnostics'}, {'id': 'uses-text-compression', 'weight': 0, 'group': 'diagnostics'}, {'id': 'uses-rel-preconnect', 'weight': 0, 'group': 'diagnostics'}, {'id': 'server-response-time', 'weight': 0, 'group': 'diagnostics'}, {'id': 'redirects', 'weight': 0, 'group': 'diagnostics'}, {'id': 'uses-http2', 'weight': 0, 'group': 'diagnostics'}, {'id': 'efficient-animated-content', 'weight': 0, 'group': 'diagnostics'}, {'id': 'duplicated-javascript', 'weight': 0, 'group': 'diagnostics'}, {'id': 'legacy-javascript', 'weight': 0, 'group': 'diagnostics'}, {'id': 'prioritize-lcp-image', 'weight': 0, 'group': 'diagnostics'}, {'id': 'total-byte-weight', 'weight': 0, 'group': 'diagnostics'}, {'id': 'uses-long-cache-ttl', 'weight': 0, 'group': 'diagnostics'}, {'id': 'dom-size', 'weight': 0, 'group': 'diagnostics'}, {'id': 'critical-request-chains', 'weight': 0, 'group': 'diagnostics'}, {'id': 'user-timings', 'weight': 0, 'group': 'diagnostics'}, {'id': 'bootup-time', 'weight': 0, 'group': 'diagnostics'}, {'id': 'mainthread-work-breakdown', 'weight': 0, 'group': 'diagnostics'}, {'id': 'font-display', 'weight': 0, 'group': 'diagnostics'}, {'id': 'third-party-summary', 'weight': 0, 'group': 'diagnostics'}, {'id': 'third-party-facades', 'weight': 0, 'group': 'diagnostics'}, {'id': 'largest-contentful-paint-element', 'weight': 0, 'group': 'diagnostics'}, {'id': 'lcp-lazy-loaded', 'weight': 0, 'group': 'diagnostics'}, {'id': 'layout-shifts', 'weight': 0, 'group': 'diagnostics'}, {'id': 'uses-passive-event-listeners', 'weight': 0, 'group': 'diagnostics'}, {'id': 'no-document-write', 'weight': 0, 'group': 'diagnostics'}, {'id': 'long-tasks', 'weight': 0, 'group': 'diagnostics'}, {'id': 'non-composited-animations', 'weight': 0, 'group': 'diagnostics'}, {'id': 'unsized-images', 'weight': 0, 'group': 'diagnostics'}, {'id': 'viewport', 'weight': 0, 'group': 'diagnostics'}, {'id': 'bf-cache', 'weight': 0, 'group': 'diagnostics'}, {'id': 'network-requests', 'weight': 0, 'group': 'hidden'}, {'id': 'network-rtt', 'weight': 0, 'group': 'hidden'}, {'id': 'network-server-latency', 'weight': 0, 'group': 'hidden'}, {'id': 'main-thread-tasks', 'weight': 0, 'group': 'hidden'}, {'id': 'diagnostics', 'weight': 0, 'group': 'hidden'}, {'id': 'metrics', 'weight': 0, 'group': 'hidden'}, {'id': 'screenshot-thumbnails', 'weight': 0, 'group': 'hidden'}, {'id': 'final-screenshot', 'weight': 0, 'group': 'hidden'}, {'id': 'script-treemap-data', 'weight': 0, 'group': 'hidden'}, {'id': 'resource-summary', 'weight': 0, 'group': 'hidden'}], 'id': 'performance', 'score': 0.58}\n"
     ]
    }
   ],
   "source": [
    "reports.get_seo_from_full_report(full_report)"
   ]
  }
 ],
 "metadata": {
  "kernelspec": {
   "display_name": ".venv",
   "language": "python",
   "name": "python3"
  },
  "language_info": {
   "codemirror_mode": {
    "name": "ipython",
    "version": 3
   },
   "file_extension": ".py",
   "mimetype": "text/x-python",
   "name": "python",
   "nbconvert_exporter": "python",
   "pygments_lexer": "ipython3",
   "version": "3.11.3"
  }
 },
 "nbformat": 4,
 "nbformat_minor": 2
}
